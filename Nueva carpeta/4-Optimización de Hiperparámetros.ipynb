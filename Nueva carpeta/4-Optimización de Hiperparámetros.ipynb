{
 "cells": [
  {
   "cell_type": "markdown",
   "id": "afb293ef",
   "metadata": {},
   "source": [
    "# Optimización de Hiperparámetros en Machine Learning"
   ]
  },
  {
   "cell_type": "markdown",
   "id": "4817721a",
   "metadata": {},
   "source": [
    "## GridSearchCV \n",
    "\n",
    "Optimización de parámetros para el dataset Iris con k-NN "
   ]
  },
  {
   "cell_type": "code",
   "execution_count": 1,
   "id": "6db1eef5",
   "metadata": {},
   "outputs": [
    {
     "name": "stdout",
     "output_type": "stream",
     "text": [
      "Fitting 5 folds for each of 16 candidates, totalling 80 fits\n",
      "Mejores hiperparámetros encontrados:\n",
      "{'n_neighbors': 7, 'p': 2, 'weights': 'uniform'}\n",
      "Mejor puntuación en CV: 0.952\n",
      "\n",
      "Evaluación sobre conjunto de prueba:\n",
      "              precision    recall  f1-score   support\n",
      "\n",
      "           0       1.00      1.00      1.00        19\n",
      "           1       1.00      1.00      1.00        13\n",
      "           2       1.00      1.00      1.00        13\n",
      "\n",
      "    accuracy                           1.00        45\n",
      "   macro avg       1.00      1.00      1.00        45\n",
      "weighted avg       1.00      1.00      1.00        45\n",
      "\n"
     ]
    }
   ],
   "source": [
    "from sklearn.datasets import load_iris\n",
    "from sklearn.model_selection import train_test_split, GridSearchCV\n",
    "from sklearn.neighbors import KNeighborsClassifier\n",
    "from sklearn.metrics import classification_report\n",
    "\n",
    "# 1. Cargar datos\n",
    "iris = load_iris()\n",
    "X, y = iris.data, iris.target\n",
    "\n",
    "# 2. Dividir en entrenamiento y prueba\n",
    "X_train, X_test, y_train, y_test = train_test_split(X, y, test_size=0.3, random_state=42)\n",
    "\n",
    "# 3. Definir el modelo base\n",
    "knn = KNeighborsClassifier()\n",
    "\n",
    "# 4. Definir el espacio de hiperparámetros\n",
    "param_grid = {\n",
    "    'n_neighbors': [3, 5, 7, 9],\n",
    "    'weights': ['uniform', 'distance'],\n",
    "    'p': [1, 2]  # 1 = Manhattan, 2 = Euclidiana\n",
    "}\n",
    "\n",
    "# 5. Instanciar GridSearchCV\n",
    "grid_search = GridSearchCV(knn, param_grid, cv=5, scoring='accuracy', n_jobs=-1, verbose=1)\n",
    "\n",
    "# 6. Ejecutar búsqueda\n",
    "grid_search.fit(X_train, y_train)\n",
    "\n",
    "# 7. Resultados\n",
    "print(f\"Mejores hiperparámetros encontrados:\\n{grid_search.best_params_}\")\n",
    "print(f\"Mejor puntuación en CV: {grid_search.best_score_:.3f}\")\n",
    "\n",
    "# 8. Evaluar sobre datos de prueba\n",
    "y_pred = grid_search.predict(X_test)\n",
    "print(\"\\nEvaluación sobre conjunto de prueba:\")\n",
    "print(classification_report(y_test, y_pred))"
   ]
  },
  {
   "cell_type": "markdown",
   "id": "5a363983",
   "metadata": {},
   "source": [
    "## RandomizedSearchCV \n",
    "\n",
    "Optimización de parámetros para el dataset Iris con k-NN "
   ]
  },
  {
   "cell_type": "code",
   "execution_count": null,
   "id": "d11fad4c",
   "metadata": {},
   "outputs": [
    {
     "name": "stdout",
     "output_type": "stream",
     "text": [
      "Fitting 5 folds for each of 10 candidates, totalling 50 fits\n",
      "Mejores hiperparámetros encontrados:\n",
      "{'n_neighbors': 14, 'p': 1, 'weights': 'uniform'}\n",
      "Mejor puntuación en CV: 0.962\n",
      "\n",
      "Evaluación sobre conjunto de prueba:\n",
      "              precision    recall  f1-score   support\n",
      "\n",
      "           0       1.00      1.00      1.00        19\n",
      "           1       1.00      1.00      1.00        13\n",
      "           2       1.00      1.00      1.00        13\n",
      "\n",
      "    accuracy                           1.00        45\n",
      "   macro avg       1.00      1.00      1.00        45\n",
      "weighted avg       1.00      1.00      1.00        45\n",
      "\n"
     ]
    }
   ],
   "source": [
    "from sklearn.datasets import load_iris\n",
    "from sklearn.model_selection import train_test_split, RandomizedSearchCV\n",
    "from sklearn.neighbors import KNeighborsClassifier\n",
    "from sklearn.metrics import classification_report\n",
    "from scipy.stats import randint\n",
    "import numpy as np\n",
    "\n",
    "# 1. Cargar datos\n",
    "iris = load_iris()\n",
    "X, y = iris.data, iris.target\n",
    "\n",
    "# 2. Dividir datos\n",
    "X_train, X_test, y_train, y_test = train_test_split(X, y, test_size=0.3, random_state=42)\n",
    "\n",
    "# 3. Definir el modelo\n",
    "knn = KNeighborsClassifier()\n",
    "\n",
    "# 4. Definir el espacio de búsqueda con distribuciones estadísticas\n",
    "param_dist = {\n",
    "    'n_neighbors': randint(3, 15),\n",
    "    'weights': ['uniform', 'distance'],\n",
    "    'p': randint(1, 3)  # 1: Manhattan, 2: Euclidiana\n",
    "}\n",
    "\n",
    "# 5. Instanciar RandomizedSearchCV\n",
    "random_search = RandomizedSearchCV(\n",
    "    estimator=knn,\n",
    "    param_distributions=param_dist,\n",
    "    n_iter=10,                # Número de combinaciones a probar\n",
    "    cv=5,                  # Número de folds para validación cruzada\n",
    "    scoring='accuracy',\n",
    "    random_state=42,\n",
    "    n_jobs=-1,\n",
    "    verbose=1\n",
    ")\n",
    "\n",
    "# 6. Ejecutar búsqueda\n",
    "random_search.fit(X_train, y_train)\n",
    "\n",
    "# 7. Mostrar los mejores hiperparámetros\n",
    "print(f\"Mejores hiperparámetros encontrados:\\n{random_search.best_params_}\")\n",
    "print(f\"Mejor puntuación en CV: {random_search.best_score_:.3f}\")\n",
    "\n",
    "# 8. Evaluación sobre conjunto de prueba\n",
    "y_pred = random_search.predict(X_test)\n",
    "print(\"\\nEvaluación sobre conjunto de prueba:\")\n",
    "print(classification_report(y_test, y_pred)) \n"
   ]
  }
 ],
 "metadata": {
  "kernelspec": {
   "display_name": "iacourse",
   "language": "python",
   "name": "python3"
  },
  "language_info": {
   "codemirror_mode": {
    "name": "ipython",
    "version": 3
   },
   "file_extension": ".py",
   "mimetype": "text/x-python",
   "name": "python",
   "nbconvert_exporter": "python",
   "pygments_lexer": "ipython3",
   "version": "3.10.16"
  }
 },
 "nbformat": 4,
 "nbformat_minor": 5
}
